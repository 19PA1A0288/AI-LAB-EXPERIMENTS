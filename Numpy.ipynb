{
  "nbformat": 4,
  "nbformat_minor": 0,
  "metadata": {
    "colab": {
      "name": "Welcome To Colaboratory",
      "provenance": [],
      "collapsed_sections": [],
      "include_colab_link": true
    },
    "kernelspec": {
      "display_name": "Python 3",
      "name": "python3"
    }
  },
  "cells": [
    {
      "cell_type": "markdown",
      "metadata": {
        "id": "view-in-github",
        "colab_type": "text"
      },
      "source": [
        "<a href=\"https://colab.research.google.com/github/19PA1A0288/AI-LAB-EXPERIMENTS/blob/master/Numpy.ipynb\" target=\"_parent\"><img src=\"https://colab.research.google.com/assets/colab-badge.svg\" alt=\"Open In Colab\"/></a>"
      ]
    },
    {
      "cell_type": "markdown",
      "metadata": {
        "id": "LYsGQRbdT5hQ"
      },
      "source": [
        "#Experiment 1 Numpy¶"
      ]
    },
    {
      "cell_type": "markdown",
      "metadata": {
        "id": "OaTVnC2BT9U2"
      },
      "source": [
        "#Different ways to create Numpy arrays¶"
      ]
    },
    {
      "cell_type": "markdown",
      "metadata": {
        "id": "H1o9e6QpUC9u"
      },
      "source": [
        "##i)Creat a numpy array using list"
      ]
    },
    {
      "cell_type": "code",
      "metadata": {
        "id": "Q5ktElJUUJhY",
        "outputId": "0caf450c-b3c9-4b1d-8f97-86bea27444e8",
        "colab": {
          "base_uri": "https://localhost:8080/",
          "height": 34
        }
      },
      "source": [
        "import numpy as np \n",
        "p=np.array([1,8,9])\n",
        "print(p)"
      ],
      "execution_count": 18,
      "outputs": [
        {
          "output_type": "stream",
          "text": [
            "[1 8 9]\n"
          ],
          "name": "stdout"
        }
      ]
    },
    {
      "cell_type": "markdown",
      "metadata": {
        "id": "W226lCLUUd-F"
      },
      "source": [
        "#ii)Add,Remove,Modify array elements add"
      ]
    },
    {
      "cell_type": "markdown",
      "metadata": {
        "id": "RGoEKXZ4Uli7"
      },
      "source": [
        "###Add"
      ]
    },
    {
      "cell_type": "code",
      "metadata": {
        "id": "wE-i7XMWUgy7",
        "outputId": "e50c8995-7a43-43e2-c04d-ed1c7c2b223f",
        "colab": {
          "base_uri": "https://localhost:8080/",
          "height": 34
        }
      },
      "source": [
        "f=np.array([4,1,9])\n",
        "q=np.append(f,[3,6,8])\n",
        "print(q)"
      ],
      "execution_count": 19,
      "outputs": [
        {
          "output_type": "stream",
          "text": [
            "[4 1 9 3 6 8]\n"
          ],
          "name": "stdout"
        }
      ]
    },
    {
      "cell_type": "markdown",
      "metadata": {
        "id": "kcth6k_HU_D9"
      },
      "source": [
        "###Remove"
      ]
    },
    {
      "cell_type": "code",
      "metadata": {
        "id": "HU-KFjgQVCWl",
        "outputId": "670075dc-7cb1-467d-d545-e2adc1c3b39d",
        "colab": {
          "base_uri": "https://localhost:8080/",
          "height": 34
        }
      },
      "source": [
        "c=np.delete(f,2)\n",
        "print(c)"
      ],
      "execution_count": 20,
      "outputs": [
        {
          "output_type": "stream",
          "text": [
            "[4 1]\n"
          ],
          "name": "stdout"
        }
      ]
    },
    {
      "cell_type": "markdown",
      "metadata": {
        "id": "-5D_6MGVVUdr"
      },
      "source": [
        "###Modify"
      ]
    },
    {
      "cell_type": "code",
      "metadata": {
        "id": "xGOHb9y0VbnP",
        "outputId": "720a4bf0-73de-4d7a-ccc7-9f392f0bd268",
        "colab": {
          "base_uri": "https://localhost:8080/",
          "height": 34
        }
      },
      "source": [
        "c[c>3]=-1\n",
        "print(c)"
      ],
      "execution_count": 21,
      "outputs": [
        {
          "output_type": "stream",
          "text": [
            "[-1  1]\n"
          ],
          "name": "stdout"
        }
      ]
    },
    {
      "cell_type": "markdown",
      "metadata": {
        "id": "Owe4hDacVi7Y"
      },
      "source": [
        "##iii)Arthemetic operations on Numpy array"
      ]
    },
    {
      "cell_type": "code",
      "metadata": {
        "id": "L3L4JYvVVti_",
        "outputId": "d8fdc5ce-32e8-4a99-c4a8-8df8aa1dd58c",
        "colab": {
          "base_uri": "https://localhost:8080/",
          "height": 554
        }
      },
      "source": [
        " import numpy as np \n",
        "l=np.random.random((5,5))\n",
        "m=np.random.random((5,5))\n",
        "num_sum=np.add(l,m)\n",
        "num_diff=np.subtract(l,m)\n",
        "num_prod=np.multiply(l,m)\n",
        "num_quo=np.divide(l,m)\n",
        "num_mod=np.mod(l,m)\n",
        "num_pow=np.power(l,m)\n",
        "print(num_sum)\n",
        "print(num_diff)\n",
        "print(num_prod)\n",
        "print(num_quo)\n",
        "print(num_mod)\n",
        "print(num_pow)"
      ],
      "execution_count": 22,
      "outputs": [
        {
          "output_type": "stream",
          "text": [
            "[[0.21229076 1.82778727 0.88424269 0.80711732 1.43681579]\n",
            " [1.64614183 1.06064271 1.06709268 0.90465738 1.55189899]\n",
            " [0.62562027 1.38665779 0.9213102  1.34764013 0.91596994]\n",
            " [0.49186229 1.19699085 1.11989947 1.39097104 1.22683674]\n",
            " [0.32202609 1.47931721 1.02994379 0.63327051 1.32609935]]\n",
            "[[ 0.12439647 -0.0018693  -0.03000504  0.06614575  0.46557716]\n",
            " [-0.11734585 -0.24117437  0.6518452   0.45116173 -0.15590738]\n",
            " [-0.24645537  0.33495498 -0.59194973 -0.04490445  0.57182921]\n",
            " [-0.31962253  0.43934543  0.18445659  0.22665541  0.28029788]\n",
            " [ 0.02849792 -0.22644826 -0.38241976  0.17078526  0.00238358]]\n",
            "[[0.00739822 0.8352007  0.19524621 0.16176578 0.46191938]\n",
            " [0.67400322 0.26669947 0.17844616 0.15371452 0.59602084]\n",
            " [0.08266512 0.45265624 0.124602   0.45352938 0.12800307]\n",
            " [0.03494249 0.30994067 0.30503765 0.47085694 0.35664037]\n",
            " [0.02572217 0.53427515 0.22863484 0.09296598 0.43963345]]\n",
            "[[3.83059267 0.99795666 0.93436124 1.1785379  1.95872867]\n",
            " [0.86691617 0.62948041 4.1395504  2.98970694 0.81741796]\n",
            " [0.43478442 1.63697649 0.21764963 0.93550734 4.32322883]\n",
            " [0.2122526  2.15976527 1.39437276 1.38933672 1.59225858]\n",
            " [1.19417504 0.73449074 0.45846838 1.73855442 1.00360135]]\n",
            "[[0.03650218 0.91295898 0.42711882 0.06614575 0.46557716]\n",
            " [0.76439799 0.40973417 0.02897398 0.2244139  0.6979958 ]\n",
            " [0.18958245 0.33495498 0.16468023 0.65136784 0.0556181 ]\n",
            " [0.08611988 0.06052271 0.18445659 0.22665541 0.28029788]\n",
            " [0.02849792 0.62643447 0.32376202 0.17078526 0.00238358]]\n",
            "[[0.92468444 0.92006752 0.67782097 0.73564411 0.97599503]\n",
            " [0.78907398 0.55946686 0.96904652 0.91562694 0.73564014]\n",
            " [0.48427569 0.92420849 0.25543916 0.74194621 0.95036716]\n",
            " [0.36976542 0.92679308 0.8187948  0.88379825 0.8746728 ]\n",
            " [0.77446274 0.67105598 0.45095214 0.81000399 0.76279011]]\n"
          ],
          "name": "stdout"
        }
      ]
    },
    {
      "cell_type": "markdown",
      "metadata": {
        "id": "cuap5MZoV9cb"
      },
      "source": [
        "##iv)Slicing and Iterating of numpy array"
      ]
    },
    {
      "cell_type": "markdown",
      "metadata": {
        "id": "dXzBvPvEWUXW"
      },
      "source": [
        "###Slicing"
      ]
    },
    {
      "cell_type": "code",
      "metadata": {
        "id": "fPF8slyoWLdk",
        "outputId": "4eae63a9-42db-425e-befa-6db82d2f24a3",
        "colab": {
          "base_uri": "https://localhost:8080/",
          "height": 34
        }
      },
      "source": [
        "import numpy as np \n",
        "arr=np.array([1,2,3,4,5,6,7])\n",
        "print(arr[1:6])"
      ],
      "execution_count": 23,
      "outputs": [
        {
          "output_type": "stream",
          "text": [
            "[2 3 4 5 6]\n"
          ],
          "name": "stdout"
        }
      ]
    },
    {
      "cell_type": "markdown",
      "metadata": {
        "id": "3BnwwXTYWec1"
      },
      "source": [
        "###Iterating"
      ]
    },
    {
      "cell_type": "code",
      "metadata": {
        "id": "PZ5wboCQWcDJ",
        "outputId": "b2885161-1d4b-45c1-ba8a-60dedeec67b9",
        "colab": {
          "base_uri": "https://localhost:8080/",
          "height": 137
        }
      },
      "source": [
        "for x in arr:\n",
        "  print(x)"
      ],
      "execution_count": 24,
      "outputs": [
        {
          "output_type": "stream",
          "text": [
            "1\n",
            "2\n",
            "3\n",
            "4\n",
            "5\n",
            "6\n",
            "7\n"
          ],
          "name": "stdout"
        }
      ]
    },
    {
      "cell_type": "markdown",
      "metadata": {
        "id": "yPsHJGBzW8P3"
      },
      "source": [
        "##v)Matrix operations on Numpy arrays"
      ]
    },
    {
      "cell_type": "code",
      "metadata": {
        "id": "IM6caIx3W-Fk",
        "outputId": "a572433c-bd24-471d-b5c4-512a3a008a7b",
        "colab": {
          "base_uri": "https://localhost:8080/",
          "height": 120
        }
      },
      "source": [
        "import numpy as np \n",
        "s=np.array([[1,2],[3,4]])\n",
        "t=np.array([[5,6],[7,8]])\n",
        "print(np.add(s,t))\n",
        "print(np.subtract(s,t))\n",
        "print(np.divide(s,t))"
      ],
      "execution_count": 25,
      "outputs": [
        {
          "output_type": "stream",
          "text": [
            "[[ 6  8]\n",
            " [10 12]]\n",
            "[[-4 -4]\n",
            " [-4 -4]]\n",
            "[[0.2        0.33333333]\n",
            " [0.42857143 0.5       ]]\n"
          ],
          "name": "stdout"
        }
      ]
    }
  ]
}