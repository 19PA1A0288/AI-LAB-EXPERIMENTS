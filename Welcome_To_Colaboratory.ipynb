{
  "nbformat": 4,
  "nbformat_minor": 0,
  "metadata": {
    "colab": {
      "name": "Welcome To Colaboratory",
      "provenance": [],
      "collapsed_sections": [],
      "include_colab_link": true
    },
    "kernelspec": {
      "display_name": "Python 3",
      "name": "python3"
    }
  },
  "cells": [
    {
      "cell_type": "markdown",
      "metadata": {
        "id": "view-in-github",
        "colab_type": "text"
      },
      "source": [
        "<a href=\"https://colab.research.google.com/github/19PA1A0288/AI-LAB-EXPERIMENTS/blob/master/Welcome_To_Colaboratory.ipynb\" target=\"_parent\"><img src=\"https://colab.research.google.com/assets/colab-badge.svg\" alt=\"Open In Colab\"/></a>"
      ]
    },
    {
      "cell_type": "markdown",
      "metadata": {
        "id": "0cvRQYq84-NI",
        "colab_type": "text"
      },
      "source": [
        "#Experiment 1 Numpy"
      ]
    },
    {
      "cell_type": "markdown",
      "metadata": {
        "id": "ljD7tUIR5R0O",
        "colab_type": "text"
      },
      "source": [
        "##Different ways to create Numpy arrays"
      ]
    },
    {
      "cell_type": "markdown",
      "metadata": {
        "id": "t2zo7-PK5_xZ",
        "colab_type": "text"
      },
      "source": [
        "###i)Creat a numpy array using list"
      ]
    },
    {
      "cell_type": "code",
      "metadata": {
        "id": "ITMP5uc76Tc3",
        "colab_type": "code",
        "colab": {
          "base_uri": "https://localhost:8080/",
          "height": 34
        },
        "outputId": "eee48a54-4fa6-48a9-f308-1bd96efeead2"
      },
      "source": [
        "import numpy as np \n",
        "p=np.array([1,8,9])\n",
        "print(p)"
      ],
      "execution_count": 4,
      "outputs": [
        {
          "output_type": "stream",
          "text": [
            "[1 8 9]\n"
          ],
          "name": "stdout"
        }
      ]
    },
    {
      "cell_type": "markdown",
      "metadata": {
        "id": "DAhZqUMD-efT",
        "colab_type": "text"
      },
      "source": [
        "###ii)Add,Remove,Modify array elements add"
      ]
    },
    {
      "cell_type": "markdown",
      "metadata": {
        "id": "R96dyZ31-53l",
        "colab_type": "text"
      },
      "source": [
        "Add"
      ]
    },
    {
      "cell_type": "code",
      "metadata": {
        "id": "bgd3_Nqq_JOt",
        "colab_type": "code",
        "colab": {
          "base_uri": "https://localhost:8080/",
          "height": 34
        },
        "outputId": "8e79bced-8a69-409d-a9b9-21be14f26c1f"
      },
      "source": [
        " \n",
        "f=np.array([4,1,9])\n",
        "q=np.append(f,[3,6,8])\n",
        "print(q)"
      ],
      "execution_count": 6,
      "outputs": [
        {
          "output_type": "stream",
          "text": [
            "[4 1 9 3 6 8]\n"
          ],
          "name": "stdout"
        }
      ]
    },
    {
      "cell_type": "markdown",
      "metadata": {
        "id": "wTBmbNxo_YAF",
        "colab_type": "text"
      },
      "source": [
        "Remove"
      ]
    },
    {
      "cell_type": "code",
      "metadata": {
        "id": "aJX7OiDH_pCp",
        "colab_type": "code",
        "colab": {
          "base_uri": "https://localhost:8080/",
          "height": 34
        },
        "outputId": "1c309e8d-9b03-41fb-8e6f-2d1509965069"
      },
      "source": [
        " c=np.delete(f,2)\n",
        "print(c)"
      ],
      "execution_count": 7,
      "outputs": [
        {
          "output_type": "stream",
          "text": [
            "[4 1]\n"
          ],
          "name": "stdout"
        }
      ]
    },
    {
      "cell_type": "markdown",
      "metadata": {
        "id": "OGMJeiwv_si4",
        "colab_type": "text"
      },
      "source": [
        "Modify"
      ]
    },
    {
      "cell_type": "code",
      "metadata": {
        "id": "p2BfFBoX_xwl",
        "colab_type": "code",
        "colab": {
          "base_uri": "https://localhost:8080/",
          "height": 34
        },
        "outputId": "8db78653-fac1-4877-e1c6-3660c889187b"
      },
      "source": [
        " c[c>3]=-1\n",
        "print(c)"
      ],
      "execution_count": 8,
      "outputs": [
        {
          "output_type": "stream",
          "text": [
            "[-1  1]\n"
          ],
          "name": "stdout"
        }
      ]
    },
    {
      "cell_type": "markdown",
      "metadata": {
        "id": "3pkv2r2c_-i6",
        "colab_type": "text"
      },
      "source": [
        "##iii)Arthemetic operations on Numpy array"
      ]
    },
    {
      "cell_type": "code",
      "metadata": {
        "id": "BhMEIhX4Ad-Q",
        "colab_type": "code",
        "colab": {
          "base_uri": "https://localhost:8080/",
          "height": 554
        },
        "outputId": "542e0636-e839-424b-96a7-2fb738813987"
      },
      "source": [
        " import numpy as np \n",
        "l=np.random.random((5,5))\n",
        "m=np.random.random((5,5))\n",
        "num_sum=np.add(l,m)\n",
        "num_diff=np.subtract(l,m)\n",
        "num_prod=np.multiply(l,m)\n",
        "num_quo=np.divide(l,m)\n",
        "num_mod=np.mod(l,m)\n",
        "num_pow=np.power(l,m)\n",
        "print(num_sum)\n",
        "print(num_diff)\n",
        "print(num_prod)\n",
        "print(num_quo)\n",
        "print(num_mod)\n",
        "print(num_pow)"
      ],
      "execution_count": 9,
      "outputs": [
        {
          "output_type": "stream",
          "text": [
            "[[1.26724792 1.67381602 0.89940625 1.04188606 1.60713097]\n",
            " [1.59389907 1.20094956 1.06121806 1.70377503 0.56321582]\n",
            " [1.23840788 1.57512636 1.47711518 1.6511322  1.22617251]\n",
            " [1.40087023 0.89881155 1.06038384 1.30755685 1.62961488]\n",
            " [1.42023679 1.06249974 1.54675681 0.94704157 0.87218825]]\n",
            "[[ 0.58207074  0.29358837 -0.48454518 -0.25359485 -0.14225077]\n",
            " [-0.06676378  0.01121298 -0.66268887  0.20318873  0.10849442]\n",
            " [ 0.74362893 -0.35805095 -0.14312829  0.14957279 -0.46469783]\n",
            " [-0.39578355 -0.79015916 -0.33408844 -0.47670288 -0.35527713]\n",
            " [-0.19568237  0.20864899 -0.32869339  0.60819953  0.0882177 ]]\n",
            "[[0.31677774 0.67886649 0.14353689 0.25530405 0.64065867]\n",
            " [0.63401421 0.36053853 0.17175681 0.71539093 0.07636025]\n",
            " [0.24516752 0.58820564 0.54034589 0.67596638 0.32188874]\n",
            " [0.4514482  0.04587767 0.2531997  0.37061482 0.6323557 ]\n",
            " [0.49469524 0.27134283 0.57110432 0.13174527 0.18823249]]\n",
            "[[2.69903717 1.42542021 0.29976563 0.60849311 0.83737023]\n",
            " [0.91959382 1.01884951 0.23117791 1.27081246 1.47719075]\n",
            " [4.00590368 0.62957257 0.82332497 1.19922328 0.45034481]\n",
            " [0.55942146 0.06433053 0.52083889 0.46565753 0.64201868]\n",
            " [0.75780674 1.48872473 0.64947788 4.58987048 1.22505362]]\n",
            "[[0.23948216 0.29358837 0.20743054 0.3941456  0.7324401 ]\n",
            " [0.76356765 0.01121298 0.1992646  0.20318873 0.10849442]\n",
            " [0.00146051 0.60853771 0.66699345 0.14957279 0.38073734]\n",
            " [0.50254334 0.05432619 0.3631477  0.41542699 0.63716887]\n",
            " [0.61227721 0.20864899 0.60903171 0.09993646 0.0882177 ]]\n",
            "[[0.97352193 0.98872405 0.33673828 0.54712994 0.76158328]\n",
            " [0.79932724 0.74239409 0.24896677 0.96489103 0.78030714]\n",
            " [0.9977705  0.61872083 0.72030604 0.92421686 0.44202418]\n",
            " [0.53895951 0.08545429 0.49348525 0.45671759 0.63934197]\n",
            " [0.67276389 0.82407498 0.62813275 0.95828294 0.75010702]]\n"
          ],
          "name": "stdout"
        }
      ]
    },
    {
      "cell_type": "markdown",
      "metadata": {
        "id": "J5ZdSpG6AnZw",
        "colab_type": "text"
      },
      "source": [
        "###iv)Slicing and Iterating of numpy array"
      ]
    },
    {
      "cell_type": "markdown",
      "metadata": {
        "id": "PbQ4_z90AxjL",
        "colab_type": "text"
      },
      "source": [
        "slicing"
      ]
    },
    {
      "cell_type": "code",
      "metadata": {
        "id": "9HTNPUatBTVn",
        "colab_type": "code",
        "colab": {
          "base_uri": "https://localhost:8080/",
          "height": 34
        },
        "outputId": "ab099439-badf-429b-9f52-f327624f6ed3"
      },
      "source": [
        " import numpy as np \n",
        "arr=np.array([1,2,3,4,5,6,7])\n",
        "print(arr[1:6])"
      ],
      "execution_count": 10,
      "outputs": [
        {
          "output_type": "stream",
          "text": [
            "[2 3 4 5 6]\n"
          ],
          "name": "stdout"
        }
      ]
    },
    {
      "cell_type": "markdown",
      "metadata": {
        "id": "fNuCmznMBdsq",
        "colab_type": "text"
      },
      "source": [
        "Iterating"
      ]
    },
    {
      "cell_type": "code",
      "metadata": {
        "id": "dqKqKtH6Bl_x",
        "colab_type": "code",
        "colab": {
          "base_uri": "https://localhost:8080/",
          "height": 137
        },
        "outputId": "38dd81f9-3845-40a6-9bff-1423db93a2b2"
      },
      "source": [
        " for x in arr:\n",
        "  print(x)"
      ],
      "execution_count": 11,
      "outputs": [
        {
          "output_type": "stream",
          "text": [
            "1\n",
            "2\n",
            "3\n",
            "4\n",
            "5\n",
            "6\n",
            "7\n"
          ],
          "name": "stdout"
        }
      ]
    },
    {
      "cell_type": "markdown",
      "metadata": {
        "id": "JcWNmn2VB5Vx",
        "colab_type": "text"
      },
      "source": [
        "###v)Matrix operations on Numpy arrays"
      ]
    },
    {
      "cell_type": "code",
      "metadata": {
        "id": "eMDlq__rCCqH",
        "colab_type": "code",
        "colab": {
          "base_uri": "https://localhost:8080/",
          "height": 120
        },
        "outputId": "8a3e0549-2efa-40aa-99d4-6fd9b18600fa"
      },
      "source": [
        " import numpy as np \n",
        "s=np.array([[1,2],[3,4]])\n",
        "t=np.array([[5,6],[7,8]])\n",
        "print(np.add(s,t))\n",
        "print(np.subtract(s,t))\n",
        "print(np.divide(s,t))"
      ],
      "execution_count": 12,
      "outputs": [
        {
          "output_type": "stream",
          "text": [
            "[[ 6  8]\n",
            " [10 12]]\n",
            "[[-4 -4]\n",
            " [-4 -4]]\n",
            "[[0.2        0.33333333]\n",
            " [0.42857143 0.5       ]]\n"
          ],
          "name": "stdout"
        }
      ]
    }
  ]
}