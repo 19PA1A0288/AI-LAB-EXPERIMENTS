{
  "nbformat": 4,
  "nbformat_minor": 0,
  "metadata": {
    "colab": {
      "name": "Untitled2.ipynb",
      "provenance": [],
      "authorship_tag": "ABX9TyOVXb+QmCAyIfU0tbdmMUiJ",
      "include_colab_link": true
    },
    "kernelspec": {
      "name": "python3",
      "display_name": "Python 3"
    }
  },
  "cells": [
    {
      "cell_type": "markdown",
      "metadata": {
        "id": "view-in-github",
        "colab_type": "text"
      },
      "source": [
        "<a href=\"https://colab.research.google.com/github/19PA1A0288/AI-LAB-EXPERIMENTS/blob/master/Untitled2.ipynb\" target=\"_parent\"><img src=\"https://colab.research.google.com/assets/colab-badge.svg\" alt=\"Open In Colab\"/></a>"
      ]
    },
    {
      "cell_type": "markdown",
      "metadata": {
        "id": "bpqFqdoraSLm",
        "colab_type": "text"
      },
      "source": [
        " # Experiment-2 PANDAS"
      ]
    },
    {
      "cell_type": "code",
      "metadata": {
        "id": "1UZbJ5_kangX",
        "colab_type": "code",
        "colab": {}
      },
      "source": [
        "import pandas as pd\n",
        "import numpy as np"
      ],
      "execution_count": 1,
      "outputs": []
    },
    {
      "cell_type": "markdown",
      "metadata": {
        "id": "6dUYjHVxa8wQ",
        "colab_type": "text"
      },
      "source": [
        "##1)create a data frame manually"
      ]
    },
    {
      "cell_type": "code",
      "metadata": {
        "id": "Q4WwjIu1axxi",
        "colab_type": "code",
        "colab": {
          "base_uri": "https://localhost:8080/",
          "height": 140
        },
        "outputId": "1ce26288-9ee8-4c9d-d0bc-2002422b6119"
      },
      "source": [
        "df=pd.DataFrame({\"Roll No\":[\"EEE288\",\"EEE292\",\"EEE2A3\"],\"Name\":[\"S.Nagesh Naidu\",\"T.Uma Sai Sankar\",\"V.Vamsi Krishna\"]})\n",
        "df"
      ],
      "execution_count": 2,
      "outputs": [
        {
          "output_type": "execute_result",
          "data": {
            "text/html": [
              "<div>\n",
              "<style scoped>\n",
              "    .dataframe tbody tr th:only-of-type {\n",
              "        vertical-align: middle;\n",
              "    }\n",
              "\n",
              "    .dataframe tbody tr th {\n",
              "        vertical-align: top;\n",
              "    }\n",
              "\n",
              "    .dataframe thead th {\n",
              "        text-align: right;\n",
              "    }\n",
              "</style>\n",
              "<table border=\"1\" class=\"dataframe\">\n",
              "  <thead>\n",
              "    <tr style=\"text-align: right;\">\n",
              "      <th></th>\n",
              "      <th>Roll No</th>\n",
              "      <th>Name</th>\n",
              "    </tr>\n",
              "  </thead>\n",
              "  <tbody>\n",
              "    <tr>\n",
              "      <th>0</th>\n",
              "      <td>EEE288</td>\n",
              "      <td>S.Nagesh Naidu</td>\n",
              "    </tr>\n",
              "    <tr>\n",
              "      <th>1</th>\n",
              "      <td>EEE292</td>\n",
              "      <td>T.Uma Sai Sankar</td>\n",
              "    </tr>\n",
              "    <tr>\n",
              "      <th>2</th>\n",
              "      <td>EEE2A3</td>\n",
              "      <td>V.Vamsi Krishna</td>\n",
              "    </tr>\n",
              "  </tbody>\n",
              "</table>\n",
              "</div>"
            ],
            "text/plain": [
              "  Roll No              Name\n",
              "0  EEE288    S.Nagesh Naidu\n",
              "1  EEE292  T.Uma Sai Sankar\n",
              "2  EEE2A3   V.Vamsi Krishna"
            ]
          },
          "metadata": {
            "tags": []
          },
          "execution_count": 2
        }
      ]
    },
    {
      "cell_type": "markdown",
      "metadata": {
        "id": "QHqOX3uebMqT",
        "colab_type": "text"
      },
      "source": [
        "## 2) Import data into a Data Frame"
      ]
    }
  ]
}